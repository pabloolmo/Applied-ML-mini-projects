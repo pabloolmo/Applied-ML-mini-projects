{
 "cells": [
  {
   "cell_type": "markdown",
   "metadata": {
    "id": "agBV4QTgWGBU"
   },
   "source": [
    "# Practical 2_Exercise Solution\n",
    "Generate 100 examples using a linear function with 3 features/variables, add a Gaussian noise *N*(0,1) to it. For example, \n",
    "y = 4 + 2*x_1 + 3* x_2 + 4 x_3 + N(0,1). Train a linear model to fit the data."
   ]
  },
  {
   "cell_type": "code",
   "execution_count": null,
   "metadata": {
    "id": "s5Jxp776WC69"
   },
   "outputs": [],
   "source": [
    "import numpy as np\n",
    "import pandas as pd\n",
    "import matplotlib.pyplot as plt\n",
    "\n",
    "X = 5 * np.random.rand(100, 3)          # generate 100 points of 3 dimensional data in the range of [0, 5]\n",
    "w = np.array([[2, 3, 4]])#.reshape(1,3) # actual coefficients of the linear equation that generate the data\n",
    "#w.shape\n",
    "y = 4 + w.dot(X.T).T + np.random.randn(100, 1)    # y = 4 + 2*x1 + 3*x2 + 4*x3 plus noise\n",
    "plt.plot(X[:,0], y, '.')                # plot the data with respect to only one dimension x1\n",
    "plt.show()\n",
    "w\n",
    "#y.shape\n"
   ]
  },
  {
   "cell_type": "code",
   "execution_count": null,
   "metadata": {
    "id": "H-IpA4XjYzGU"
   },
   "outputs": [],
   "source": [
    "X_b = np.c_[np.ones((100, 1)), X]                             # add x0 = 1 to each instance\n",
    "theta_best = np.linalg.inv(X_b.T.dot(X_b)).dot(X_b.T).dot(y)  # use normal equation to find  model parameters\n",
    "\n",
    "#X_b\n",
    "theta_best    # show the learned model parameters"
   ]
  },
  {
   "cell_type": "markdown",
   "metadata": {
    "id": "MCJGc4-BBfi7"
   },
   "source": [
    "make predictions using theta"
   ]
  },
  {
   "cell_type": "code",
   "execution_count": null,
   "metadata": {
    "id": "DS-9cfIjBjo4"
   },
   "outputs": [],
   "source": [
    "X_new = np.array([[0, 0, 0], [5, 5, 5]])  # two data points\n",
    "X_new_b = np.c_[np.ones((2, 1)), X_new]   # add x0 = 1 to each instance\n",
    "y_predict = X_new_b.dot(theta_best)       # predict using y = Xw\n",
    "y_predict"
   ]
  },
  {
   "cell_type": "code",
   "execution_count": null,
   "metadata": {
    "id": "MzdKcYnyF0yo"
   },
   "outputs": [],
   "source": [
    "plt.plot(X[:,0], y, \"b.\")\n",
    "plt.plot(X_new[:, 0], y_predict, \"r-\")    # plot the learned model (red line)\n",
    "\n",
    "plt.axis([0, 5, 0, 50])\n",
    "plt.show()"
   ]
  },
  {
   "cell_type": "markdown",
   "metadata": {
    "id": "TiMHpUldDcQK"
   },
   "source": [
    "Using LinearRegression of sklearn, you can see the its model parameters and prediction are close to those from the normal equation above."
   ]
  },
  {
   "cell_type": "code",
   "execution_count": null,
   "metadata": {
    "id": "zB8NMbZWDeyK"
   },
   "outputs": [],
   "source": [
    "from sklearn.linear_model import LinearRegression\n",
    "lin_reg = LinearRegression()\n",
    "lin_reg.fit(X, y)\n",
    "lin_reg.intercept_, lin_reg.coef_"
   ]
  },
  {
   "cell_type": "code",
   "execution_count": null,
   "metadata": {
    "id": "wQ5K27pUGSuh"
   },
   "outputs": [],
   "source": [
    "lin_reg.predict(X_new)"
   ]
  }
 ],
 "metadata": {
  "colab": {
   "name": "CMT307_Lab2_ExerciseSolution.ipynb",
   "provenance": []
  },
  "kernelspec": {
   "display_name": "Python 3",
   "language": "python",
   "name": "python3"
  },
  "language_info": {
   "codemirror_mode": {
    "name": "ipython",
    "version": 3
   },
   "file_extension": ".py",
   "mimetype": "text/x-python",
   "name": "python",
   "nbconvert_exporter": "python",
   "pygments_lexer": "ipython3",
   "version": "3.6.5"
  }
 },
 "nbformat": 4,
 "nbformat_minor": 1
}
